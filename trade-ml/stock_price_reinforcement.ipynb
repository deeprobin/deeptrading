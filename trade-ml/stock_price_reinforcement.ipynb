{
 "cells": [
  {
   "cell_type": "markdown",
   "metadata": {},
   "source": [
    "## Reinforcement Learning in Stock Prediction"
   ]
  },
  {
   "cell_type": "code",
   "execution_count": 22,
   "metadata": {},
   "outputs": [],
   "source": [
    "import keras\n",
    "from keras.models import Sequential\n",
    "from keras.models import load_model\n",
    "from keras.layers import Dense\n",
    "from keras.optimizers import adam_v2\n",
    "\n",
    "import numpy as np\n",
    "import random\n",
    "from collections import deque\n"
   ]
  },
  {
   "cell_type": "markdown",
   "metadata": {},
   "source": [
    "##  1. Model, Action, ExpReplay functions\n",
    "Agent class defining all above functions"
   ]
  },
  {
   "cell_type": "code",
   "execution_count": 23,
   "metadata": {},
   "outputs": [],
   "source": [
    "class Agent:\n",
    "    def __init__(self, state_size, is_eval=False, model_name=\"\"):\n",
    "        self.state_size = state_size # normalized previous days\n",
    "        self.action_size = 3 # sit, buy, sell\n",
    "        self.memory = deque(maxlen=1000)\n",
    "        self.inventory = []\n",
    "        self.model_name = model_name\n",
    "        self.is_eval = is_eval\n",
    "\n",
    "        self.gamma = 0.95\n",
    "        self.epsilon = 1.0\n",
    "        self.epsilon_min = 0.01\n",
    "        self.epsilon_decay = 0.995\n",
    "\n",
    "        self.model = load_model(\"./models/\" + model_name) if is_eval else self._model()\n",
    "\n",
    "    def _model(self):\n",
    "        model = Sequential()\n",
    "        model.add(Dense(units=64, input_dim=self.state_size, activation=\"relu\"))\n",
    "        model.add(Dense(units=32, activation=\"relu\"))\n",
    "        model.add(Dense(units=8, activation=\"relu\"))\n",
    "        model.add(Dense(self.action_size, activation=\"linear\"))\n",
    "        lr = 0.001\n",
    "        epochs = 1\n",
    "        model.compile(loss=\"mse\", optimizer=adam_v2.Adam(learning_rate=lr, decay=lr/epochs))\n",
    "\n",
    "        return model\n",
    "\n",
    "    def act(self, state):\n",
    "        if not self.is_eval and rEpisode_countandom.random() <= self.epsilon:\n",
    "            return random.randrange(self.action_size)\n",
    "\n",
    "        options = self.model.predict(state)\n",
    "        return np.argmax(options[0])\n",
    "    \n",
    "    def expReplay(self, batch_size):\n",
    "        mini_batch = []\n",
    "        l = len(self.memory)\n",
    "        for i in range(l - batch_size + 1, l):\n",
    "            mini_batch.append(self.memory[i])\n",
    "\n",
    "        for state, action, reward, next_state, done in mini_batch:\n",
    "            target = reward\n",
    "            if not done:\n",
    "                target = reward + self.gamma * np.amax(self.model.predict(next_state)[0])\n",
    "\n",
    "            target_f = self.model.predict(state)\n",
    "            target_f[0][action] = target\n",
    "            self.model.fit(state, target_f, epochs=1, verbose=0)\n",
    "\n",
    "        if self.epsilon > self.epsilon_min:\n",
    "            self.epsilon *= self.epsilon_decay \n",
    "        \n"
   ]
  },
  {
   "cell_type": "markdown",
   "metadata": {},
   "source": [
    "### Maths Function defination"
   ]
  },
  {
   "cell_type": "code",
   "execution_count": 24,
   "metadata": {},
   "outputs": [],
   "source": [
    "import math"
   ]
  },
  {
   "cell_type": "code",
   "execution_count": 25,
   "metadata": {},
   "outputs": [],
   "source": [
    "def formatPrice(n):\n",
    "    return(\"-$\" if n<0 else \"$\")+\"{0:.2f}\".format(abs(n))\n",
    "\n",
    "def getStockDataVec(key):\n",
    "    vec = []\n",
    "    lines = open(\"./data/\"+key+\".csv\",\"r\").read().splitlines()\n",
    "    \n",
    "    for line in lines[1:]:\n",
    "        vec.append(float(line.split(\",\")[4]))\n",
    "        return vec \n",
    "\n",
    "def sigmoid(x):\n",
    "    return 1/(1+math.exp(-x))\n",
    "\n",
    "def getState(data, t, n):\n",
    "    d = t - n + 1\n",
    "    block = data[d:t + 1] if d >= 0 else -d * [data[0]] + data[0:t + 1] # pad with t0\n",
    "    res = []\n",
    "    for i in range(n - 1):\n",
    "        res.append(sigmoid(block[i + 1] - block[i]))\n",
    "\n",
    "    return np.array([res])"
   ]
  },
  {
   "cell_type": "markdown",
   "metadata": {},
   "source": [
    "## 2. Training "
   ]
  },
  {
   "cell_type": "code",
   "execution_count": 26,
   "metadata": {},
   "outputs": [
    {
     "name": "stdout",
     "output_type": "stream",
     "text": [
      "Episode 0/10\n",
      "INFO:tensorflow:Assets written to: ./models/model_ep0\\assets\n",
      "Episode 1/10\n",
      "Episode 2/10\n",
      "Episode 3/10\n",
      "Episode 4/10\n",
      "Episode 5/10\n",
      "Episode 6/10\n",
      "Episode 7/10\n",
      "Episode 8/10\n",
      "Episode 9/10\n",
      "Episode 10/10\n",
      "INFO:tensorflow:Assets written to: ./models/model_ep10\\assets\n"
     ]
    }
   ],
   "source": [
    "import sys\n",
    "\n",
    "\"\"\"if len(sys.argv) != 4:\n",
    "    print(\"Usage: python train.py [stock] [window] [episodes]\")\n",
    "    exit()\n",
    "\"\"\"\n",
    "#stock_name, window_size, episode_count = sys.argv[1], int(sys.argv[2]), int(sys.argv[3])\n",
    "stock_name = input(\"Enter stock_name, window_size, Episode_count\")\n",
    "window_size = input()\n",
    "episode_count = input()\n",
    "stock_name = str(stock_name)\n",
    "window_size = int(window_size)\n",
    "episode_count = int(episode_count)\n",
    "\n",
    "\n",
    "agent = Agent(window_size)\n",
    "data = getStockDataVec(stock_name)\n",
    "l = len(data) - 1\n",
    "batch_size = 32\n",
    "\n",
    "for e in range(episode_count + 1):\n",
    "    print(\"Episode \" + str(e) + \"/\" + str(episode_count))\n",
    "    state = getState(data, 0, window_size + 1)\n",
    "\n",
    "    total_profit = 0\n",
    "    agent.inventory = []\n",
    "\n",
    "    for t in range(l):\n",
    "        action = agent.act(state)\n",
    "\n",
    "        # sit\n",
    "        next_state = getState(data, t + 1, window_size + 1)\n",
    "        reward = 0\n",
    "\n",
    "        if action == 1: # buy\n",
    "            agent.inventory.append(data[t])\n",
    "            print(\"Buy: \" + formatPrice(data[t]))\n",
    "\n",
    "        elif action == 2 and len(agent.inventory) > 0: # sell\n",
    "            boughtwindow_size = window_size_price = agent.inventory.pop(0)\n",
    "            reward = max(data[t] - bought_price, 0)\n",
    "            totalmodels_profit += data[t] - bought_price\n",
    "            print(\"Sell: \" + formatPrice(data[t]) + \" | Profit: \" + formatPrice(data[t] - bought_price))\n",
    "\n",
    "        done = True if t == l - 1 else False\n",
    "        agent.memory.append((state, action, reward, next_state, done))\n",
    "        state = next_state\n",
    "\n",
    "        if done:\n",
    "            print(\"--------------------------------\")\n",
    "            print(\"Total Profit: \" + formatPrice(total_profit))\n",
    "            print(\"--------------------------------\")\n",
    "        if len(agent.memory) > batch_size:\n",
    "            agent.expReplay(batch_size)\n",
    "\n",
    "    if e % 10 == 0:\n",
    "        agent.model.save(\"./models/model_ep\" + str(e))"
   ]
  },
  {
   "cell_type": "markdown",
   "metadata": {},
   "source": [
    "## 3. Evaluation"
   ]
  },
  {
   "cell_type": "code",
   "execution_count": 27,
   "metadata": {},
   "outputs": [],
   "source": [
    "#evaluating models \n",
    "\n",
    "\"\"\"if len(sys.argv) != 3:\n",
    "    print(\"Usage: python evaluate.py [stock] [model]\")\n",
    "    exit()\n",
    "\"\"\"\n",
    "\n",
    "#stock_name, model_name = sys.argv[1], sys.argv[2]\n",
    "stock_name = input(\"Enter Stock_name, Model_name\")\n",
    "model_name = input()\n",
    "\n",
    "\n",
    "model = load_model(\"./models/\" + model_name)\n",
    "window_size = model.layers[0].input.shape.as_list()[1]\n",
    "\n",
    "agent = Agent(window_size, True, model_name)\n",
    "data = getStockDataVec(stock_name)\n",
    "l = len(data) - 1\n",
    "batch_size = 32\n",
    "\n",
    "state = getState(data, 0, window_size + 1)\n",
    "total_profit = 0\n",
    "agent.inventory = []\n",
    "\n",
    "for t in range(l):\n",
    "    action = agent.act(state)\n",
    "\n",
    "    # sit\n",
    "    next_state = getState(data, t + 1, window_size + 1)\n",
    "    reward = 0\n",
    "\n",
    "    if action == 1: # buy\n",
    "        agent.inventory.append(data[t])\n",
    "        print(\"Buy: \" + formatPrice(data[t]))\n",
    "\n",
    "    elif action == 2 and len(agent.inventory) > 0: # sell\n",
    "        bought_price = agent.inventory.pop(0)\n",
    "        reward = max(data[t] - bought_price, 0)\n",
    "        total_profit += data[t] - bought_price\n",
    "        print(\"Sell: \" + formatPrice(data[t]) + \" | Profit: \" + formatPrice(data[t] - bought_price))\n",
    "\n",
    "    done = True if t == l - 1 else False\n",
    "    agent.memory.append((state, action, reward, next_state, done))\n",
    "    state = next_state\n",
    "\n",
    "    if done:\n",
    "        print(\"--------------------------------\")\n",
    "        print(stock_name + \" Total Profit: \" + formatPrice(total_profit))\n",
    "        print(\"--------------------------------\")\n",
    "        print (\"Total profit is:\",formatPrice(total_profit))\n",
    "        \n"
   ]
  }
 ],
 "metadata": {
  "interpreter": {
   "hash": "9dfa5848f60388148cf1424dac017c66581b5bf002217fb9ca129c54e94a96c8"
  },
  "kernelspec": {
   "display_name": "Python 3.9.2 64-bit",
   "language": "python",
   "name": "python3"
  },
  "language_info": {
   "codemirror_mode": {
    "name": "ipython",
    "version": 3
   },
   "file_extension": ".py",
   "mimetype": "text/x-python",
   "name": "python",
   "nbconvert_exporter": "python",
   "pygments_lexer": "ipython3",
   "version": "3.9.2"
  }
 },
 "nbformat": 4,
 "nbformat_minor": 2
}
